{
 "cells": [
  {
   "cell_type": "code",
   "execution_count": 1,
   "metadata": {},
   "outputs": [],
   "source": [
    "from collections import Counter\n",
    "from pprint import pprint\n",
    "from tqdm import tqdm\n",
    "\n",
    "import json \n",
    "import re"
   ]
  },
  {
   "cell_type": "code",
   "execution_count": 2,
   "metadata": {},
   "outputs": [
    {
     "name": "stdout",
     "output_type": "stream",
     "text": [
      "{'diagnosis': 'MCI',\n",
      " 'dx1': 610,\n",
      " 'participant_id': 120,\n",
      " 'question': 'Describe what is going on in the picture.',\n",
      " 'repeat': 0,\n",
      " 'response': ['okay ',\n",
      "              'the boy is getting cookies from the cookie jar and handing one '\n",
      "              '<to his> [//] to the girl ',\n",
      "              'oh and the woman is wiping the dishes with her back to the '\n",
      "              'children ',\n",
      "              'and the sink is running over and spilling water onto the floor ',\n",
      "              \"I guess that's all the action \",\n",
      "              'oh no the [/] the stool &=laughs is [/] &ti is tipping over ',\n",
      "              '&=laughs the stool that the boy is standing on is tipping over ',\n",
      "              'that appears to be all the action ',\n",
      "              'mhm ']}\n"
     ]
    }
   ],
   "source": [
    "data = json.load(open('/Users/nt13157/Downloads/result(1).json', 'r'))\n",
    "\n",
    "pprint(data[0])"
   ]
  },
  {
   "cell_type": "code",
   "execution_count": 3,
   "metadata": {},
   "outputs": [
    {
     "name": "stdout",
     "output_type": "stream",
     "text": [
      "Counter({'ProbableAD': 178,\n",
      "         'Control': 165,\n",
      "         'MCI': 21,\n",
      "         'PossibleAD': 21,\n",
      "         'Vascular': 5,\n",
      "         'Complains': 2,\n",
      "         'Parkinson': 1})\n",
      "393\n"
     ]
    }
   ],
   "source": [
    "pprint(Counter([datum['diagnosis'] for datum in data]))\n",
    "pprint(len(data))"
   ]
  },
  {
   "cell_type": "code",
   "execution_count": 4,
   "metadata": {},
   "outputs": [
    {
     "data": {
      "text/plain": [
       "369"
      ]
     },
     "execution_count": 4,
     "metadata": {},
     "output_type": "execute_result"
    }
   ],
   "source": [
    "scale = dict(\n",
    "    Control=0, \n",
    "    PossibleAD=1, \n",
    "    ProbableAD=2, \n",
    "    Vascular=3,\n",
    ")\n",
    "\n",
    "data = [datum for datum in data if datum['diagnosis'] in scale.keys()]\n",
    "\n",
    "len(data)"
   ]
  },
  {
   "cell_type": "code",
   "execution_count": 16,
   "metadata": {
    "scrolled": false
   },
   "outputs": [
    {
     "name": "stderr",
     "output_type": "stream",
     "text": [
      "100%|██████████| 369/369 [00:00<00:00, 6953.88it/s]"
     ]
    },
    {
     "name": "stdout",
     "output_type": "stream",
     "text": [
      "{'diagnosis': 'ProbableAD',\n",
      " 'dx1': 101,\n",
      " 'participant_id': 148,\n",
      " 'question': 'Describe what is going on in the picture.',\n",
      " 'repeat': 0,\n",
      " 'response': ['well <the table [: stool] [* s:r-ret]> [//] the seat [: stool] '\n",
      "              '[* s:r] is falling ',\n",
      "              'the sink is running over ',\n",
      "              \"the girl's reaching for a cookie \",\n",
      "              'the mom is dryin(g) a dish ',\n",
      "              '&hm &hm cup and saucers there ',\n",
      "              '(',\n",
      "              \"I <didn't hit> [//] did this and then I did that \",\n",
      "              \"&hm well yeah here's some outside (\",\n",
      "              '&uh a garden I guess ']}\n",
      "(\" well the seat is falling the sink is running over the girl's reaching for a \"\n",
      " 'cookie the mom is dryin a dish &hm &hm cup and saucers there i did this and '\n",
      " \"then i did that &hm well yeah here's some outside ( &uh a garden i guess\")\n"
     ]
    },
    {
     "name": "stderr",
     "output_type": "stream",
     "text": [
      "\n"
     ]
    }
   ],
   "source": [
    "fill = '[^>]+'\n",
    "\n",
    "replacement_patterns = [\n",
    "        '<' + fill + '>', \n",
    "    r'\\[\\:' + fill + '\\]', \n",
    "    r'\\[\\*' + fill + '\\]', \n",
    "    r'\\[\\+' + fill + '\\]', \n",
    "    r'\\[/+\\]', \n",
    "]\n",
    "\n",
    "repetition_patterns = [\n",
    "    r'\\((.*?)\\)',\n",
    "]\n",
    "\n",
    "time_pattern = u'\\x15' + fill + u'\\x15'\n",
    "\n",
    "X = []\n",
    "y = []\n",
    "\n",
    "for di, datum in enumerate(tqdm(data[:])): \n",
    "    sentence = ''\n",
    "    \n",
    "    for response in datum['response']: \n",
    "        response = response.strip().lower()\n",
    "        \n",
    "        if response == '(': \n",
    "            continue\n",
    "\n",
    "        response = re.sub(time_pattern, '', response.strip())\n",
    "\n",
    "        for replacement_pattern in replacement_patterns: \n",
    "            response = re.sub(replacement_pattern, '', response.strip())\n",
    "\n",
    "        for repetition_pattern in repetition_patterns: \n",
    "            response = re.sub(repetition_pattern, '', response.strip())\n",
    "\n",
    "        for punctuation in '.,': \n",
    "            response = response.replace(punctuation, ' {} '.format(punctuation))\n",
    "\n",
    "        while '  ' in response: \n",
    "            response = response.replace('  ', ' ')\n",
    "            \n",
    "        sentence = f'{sentence} {response}'\n",
    "        \n",
    "    X.append(sentence)\n",
    "    y.append(scale[datum['diagnosis']])\n",
    "\n",
    "i = 10\n",
    "\n",
    "pprint(data[i])\n",
    "pprint(X[i])        \n",
    "\n",
    "json.dump(X, open('data.json', 'w'), indent=2)\n",
    "json.dump(y, open('labels.json', 'w'), indent=2)"
   ]
  },
  {
   "cell_type": "code",
   "execution_count": null,
   "metadata": {},
   "outputs": [],
   "source": []
  },
  {
   "cell_type": "code",
   "execution_count": null,
   "metadata": {},
   "outputs": [],
   "source": []
  },
  {
   "cell_type": "code",
   "execution_count": null,
   "metadata": {
    "scrolled": false
   },
   "outputs": [],
   "source": []
  },
  {
   "cell_type": "code",
   "execution_count": null,
   "metadata": {
    "scrolled": false
   },
   "outputs": [],
   "source": []
  },
  {
   "cell_type": "code",
   "execution_count": null,
   "metadata": {},
   "outputs": [],
   "source": []
  },
  {
   "cell_type": "code",
   "execution_count": null,
   "metadata": {},
   "outputs": [],
   "source": []
  },
  {
   "cell_type": "code",
   "execution_count": null,
   "metadata": {},
   "outputs": [],
   "source": []
  },
  {
   "cell_type": "code",
   "execution_count": null,
   "metadata": {},
   "outputs": [],
   "source": []
  },
  {
   "cell_type": "code",
   "execution_count": null,
   "metadata": {},
   "outputs": [],
   "source": []
  },
  {
   "cell_type": "code",
   "execution_count": null,
   "metadata": {},
   "outputs": [],
   "source": []
  },
  {
   "cell_type": "code",
   "execution_count": null,
   "metadata": {},
   "outputs": [],
   "source": []
  },
  {
   "cell_type": "code",
   "execution_count": null,
   "metadata": {},
   "outputs": [],
   "source": []
  },
  {
   "cell_type": "code",
   "execution_count": null,
   "metadata": {},
   "outputs": [],
   "source": []
  },
  {
   "cell_type": "code",
   "execution_count": null,
   "metadata": {},
   "outputs": [],
   "source": []
  },
  {
   "cell_type": "code",
   "execution_count": null,
   "metadata": {},
   "outputs": [],
   "source": []
  },
  {
   "cell_type": "code",
   "execution_count": null,
   "metadata": {},
   "outputs": [],
   "source": []
  },
  {
   "cell_type": "code",
   "execution_count": null,
   "metadata": {},
   "outputs": [],
   "source": []
  },
  {
   "cell_type": "code",
   "execution_count": null,
   "metadata": {},
   "outputs": [],
   "source": []
  }
 ],
 "metadata": {
  "kernelspec": {
   "display_name": "Python 3",
   "language": "python",
   "name": "python3"
  },
  "language_info": {
   "codemirror_mode": {
    "name": "ipython",
    "version": 3
   },
   "file_extension": ".py",
   "mimetype": "text/x-python",
   "name": "python",
   "nbconvert_exporter": "python",
   "pygments_lexer": "ipython3",
   "version": "3.6.3"
  }
 },
 "nbformat": 4,
 "nbformat_minor": 2
}
